{
 "cells": [
  {
   "cell_type": "markdown",
   "id": "5b59070f",
   "metadata": {
    "id": "5b59070f"
   },
   "source": [
    "# Natural Language Processing with Disaster Tweets\n",
    "**By Thanh Son Nghiem & Minh Kien Nguyen**"
   ]
  },
  {
   "cell_type": "markdown",
   "id": "db1b9ad4",
   "metadata": {
    "id": "db1b9ad4"
   },
   "source": [
    "<a id='0'>Table of Contents (ToC):</a>\n",
    "* <a href='#1'>1. Frame the Problem and Look at the Big Picture</a>\n",
    "* <a href='#2'>2. Get the Data</a>\n",
    "* <a href='#3'>3. Explore the Data</a>\n",
    "* <a href='#4'>4. Prepare the Data</a>\n",
    "* <a href='#5'>5. Short-List Promising Models</a>\n",
    "* <a href='#6'>6. Fine-Tune the System</a>\n",
    "* <a href='#7'>7. Present the Solution</a>\n",
    "* <a href='#8'>8. Launch!</a>"
   ]
  },
  {
   "cell_type": "markdown",
   "id": "48c1eba7",
   "metadata": {
    "id": "48c1eba7"
   },
   "source": [
    "# TODO (Stand 31.05): \n",
    "* Label test set ```labeled_test.csv``` (Deadline 07.06)"
   ]
  },
  {
   "cell_type": "markdown",
   "id": "268b2f64",
   "metadata": {
    "id": "48c1eba7"
   },
   "source": [
    "# DONE (Stand 31.05): \n",
    "* Sections 1.1, 1.2, 1.3\n",
    "* Section 2"
   ]
  },
  {
   "cell_type": "markdown",
   "id": "f84bda69",
   "metadata": {
    "id": "f84bda69"
   },
   "source": [
    "<a id='1'></a>"
   ]
  },
  {
   "cell_type": "markdown",
   "id": "a271db97",
   "metadata": {
    "id": "a271db97"
   },
   "source": [
    "## 1. Frame the Problem and Look at the Big Picture"
   ]
  },
  {
   "cell_type": "markdown",
   "id": "8a948b32",
   "metadata": {
    "id": "8a948b32"
   },
   "source": [
    "### 1.1 Define the objective in business terms\n",
    "\n",
    "*The primary goal of this Jupyter Notebook is to build machine learning models that predict which Tweets are about real disasters and which ones are not.*"
   ]
  },
  {
   "cell_type": "markdown",
   "id": "918a17c1",
   "metadata": {
    "id": "918a17c1"
   },
   "source": [
    "### 1.2 How should you frame this problem?\n",
    "\n",
    "It will be categorized as a Supervised, Batch, Model-based Learning Problem."
   ]
  },
  {
   "cell_type": "markdown",
   "id": "f59698e0",
   "metadata": {
    "id": "f59698e0"
   },
   "source": [
    "### 1.3 How should performance be measured?\n",
    "\n",
    "The F-Beta-Score will be used to evaluate the performance of the models."
   ]
  },
  {
   "cell_type": "markdown",
   "id": "f2a9b2de",
   "metadata": {
    "id": "f2a9b2de"
   },
   "source": [
    "### 1.4 What would be the minimum performance needed to reach the business objective?"
   ]
  },
  {
   "cell_type": "markdown",
   "id": "6bddd0bc",
   "metadata": {
    "id": "6bddd0bc"
   },
   "source": [
    "### 1.5 List all of the assumptions made in the project"
   ]
  },
  {
   "cell_type": "markdown",
   "id": "8ec09a65",
   "metadata": {
    "id": "8ec09a65"
   },
   "source": [
    "<a id='2'></a>\n",
    "<a href='#0'>Back to ToC</a>"
   ]
  },
  {
   "cell_type": "markdown",
   "id": "0dbe4bd7",
   "metadata": {
    "id": "0dbe4bd7"
   },
   "source": [
    "## 2. Get the Data"
   ]
  },
  {
   "cell_type": "markdown",
   "id": "8d43df26",
   "metadata": {
    "id": "8d43df26"
   },
   "source": [
    "### 2.1 Find and document where to get the data\n",
    "\n",
    "The dataset used in this Notebook was created by the company *figure-eight* and was made widely known to the public by *Kaggle*, who uses it as training and test sets for their Getting Started Prediction Competition \"Natural Language Processing with Disaster Tweets\".\n",
    "\n",
    "Link to the *Kaggle* training and test datasets as well as their description can be found [here](https://www.kaggle.com/c/nlp-getting-started/data).\n",
    "\n",
    "Note that the *Kaggle* test set ```test.csv``` was not labeled. The labeling of the test set was done manually by the creators of this Notebook and saved separately in the file ```labeled_test.csv```."
   ]
  },
  {
   "cell_type": "markdown",
   "id": "ec3d2225",
   "metadata": {
    "id": "ec3d2225"
   },
   "source": [
    "### 2.2 Get and take a quick look at the data"
   ]
  },
  {
   "cell_type": "code",
   "execution_count": null,
   "id": "1909c676",
   "metadata": {
    "id": "1909c676"
   },
   "outputs": [],
   "source": [
    "import pandas as pd\n",
    "\n",
    "# Read the Kaggle training set and the preprocessed test set\n",
    "train_df = pd.read_csv('train.csv',sep=\",\", header=\"infer\", index_col = 0)\n",
    "test_df = pd.read_csv('labeled_test.csv',sep=\",\", header=\"infer\", index_col = 0)"
   ]
  },
  {
   "cell_type": "markdown",
   "id": "78430c09",
   "metadata": {
    "id": "78430c09"
   },
   "source": [
    "*Kaggle* dataset columns description:\n",
    "* **id** - a unique identifier for each tweet\n",
    "* **text** - the text of the tweet\n",
    "* **location** - the location the tweet was sent from (may be blank)\n",
    "* **keyword** - a particular keyword from the tweet (may be blank)\n",
    "* **target** - this denotes whether a tweet is about a real disaster (1) or not (0)"
   ]
  },
  {
   "cell_type": "code",
   "execution_count": null,
   "id": "f3cafcb8",
   "metadata": {
    "id": "f3cafcb8"
   },
   "outputs": [],
   "source": [
    "# Print a concise summary of the training set\n",
    "train_df.info()"
   ]
  },
  {
   "cell_type": "code",
   "execution_count": null,
   "id": "d7fe03e4",
   "metadata": {
    "id": "f3cafcb8"
   },
   "outputs": [],
   "source": [
    "# Print a concise summary of the test set\n",
    "test_df.info()"
   ]
  },
  {
   "cell_type": "code",
   "execution_count": null,
   "id": "348bcfea",
   "metadata": {
    "id": "348bcfea"
   },
   "outputs": [],
   "source": [
    "# Calculate the amount and the percentage of Disaster Tweets and Non-Disaster Tweets in the training set\n",
    "print(train_df[\"target\"].value_counts())\n",
    "print(train_df[\"target\"].value_counts()/len(train_df))"
   ]
  },
  {
   "cell_type": "code",
   "execution_count": null,
   "id": "2f2b2e60",
   "metadata": {
    "id": "348bcfea"
   },
   "outputs": [],
   "source": [
    "# Calculate the amount and the percentage of Disaster Tweets and Non-Disaster Tweets in the test set\n",
    "print(test_df[\"target\"].value_counts())\n",
    "print(test_df[\"target\"].value_counts()/len(test_df))"
   ]
  },
  {
   "cell_type": "markdown",
   "id": "7f2f1b57",
   "metadata": {
    "id": "7f2f1b57"
   },
   "source": [
    "<a id='3'></a>\n",
    "<a href='#0'>Back to ToC</a>"
   ]
  },
  {
   "cell_type": "markdown",
   "id": "5fc7039d",
   "metadata": {
    "id": "5fc7039d"
   },
   "source": [
    "## 3. Explore the Data"
   ]
  },
  {
   "cell_type": "markdown",
   "id": "a7a698c8",
   "metadata": {
    "id": "a7a698c8"
   },
   "source": [
    "### 3.1 Create a copy of the data for exploration"
   ]
  },
  {
   "cell_type": "code",
   "execution_count": null,
   "id": "ece519b5",
   "metadata": {
    "id": "ece519b5"
   },
   "outputs": [],
   "source": [
    "scaffolds = strat_train_set.copy()"
   ]
  },
  {
   "cell_type": "markdown",
   "id": "284b16a2",
   "metadata": {
    "id": "284b16a2"
   },
   "source": [
    "### 3.2 Study each attribute and its characteristics"
   ]
  },
  {
   "cell_type": "code",
   "execution_count": null,
   "id": "2a038306",
   "metadata": {
    "id": "2a038306"
   },
   "outputs": [],
   "source": [
    "scaffolds.info()"
   ]
  },
  {
   "cell_type": "markdown",
   "id": "bdb46874",
   "metadata": {
    "id": "bdb46874"
   },
   "source": [
    "Numerical attributes"
   ]
  },
  {
   "cell_type": "code",
   "execution_count": null,
   "id": "c658361a",
   "metadata": {
    "id": "c658361a"
   },
   "outputs": [],
   "source": [
    "scaffolds.describe()"
   ]
  },
  {
   "cell_type": "markdown",
   "id": "9783aa9d",
   "metadata": {
    "id": "9783aa9d"
   },
   "source": [
    "Categorical attributes"
   ]
  },
  {
   "cell_type": "code",
   "execution_count": null,
   "id": "51319e04",
   "metadata": {
    "id": "51319e04"
   },
   "outputs": [],
   "source": [
    "scaffolds[\"Origin\"].value_counts()"
   ]
  },
  {
   "cell_type": "markdown",
   "id": "466796ec",
   "metadata": {
    "id": "466796ec"
   },
   "source": [
    "### 3.3 Study the correlations between attributes"
   ]
  },
  {
   "cell_type": "code",
   "execution_count": null,
   "id": "7981863a",
   "metadata": {
    "id": "7981863a"
   },
   "outputs": [],
   "source": [
    "ax = sns.heatmap(scaffolds.corr(), vmin=-1, vmax=1, center=0, square=True)\n",
    "ax.set_xticklabels(ax.get_xticklabels(), rotation=45, horizontalalignment='right');"
   ]
  },
  {
   "cell_type": "code",
   "execution_count": null,
   "id": "cfd3bcc0",
   "metadata": {
    "id": "cfd3bcc0"
   },
   "outputs": [],
   "source": [
    "scaffolds.corr()['Organelle'].sort_values(ascending=False)"
   ]
  },
  {
   "cell_type": "markdown",
   "id": "85c13181",
   "metadata": {
    "id": "85c13181"
   },
   "source": [
    "Korrelationskoeffizienten von tRNA und rRNAp sind super klein. Kann man die beiden entfernen?"
   ]
  },
  {
   "cell_type": "markdown",
   "id": "0743ddad",
   "metadata": {
    "id": "0743ddad"
   },
   "source": [
    "### 3.4 Document what you have learned"
   ]
  },
  {
   "cell_type": "markdown",
   "id": "c2a1766d",
   "metadata": {
    "id": "c2a1766d"
   },
   "source": [
    "Anmerkungen:"
   ]
  },
  {
   "cell_type": "markdown",
   "id": "f6cf6b66",
   "metadata": {
    "id": "f6cf6b66"
   },
   "source": [
    "### 3.5 Identify promising transformations to apply"
   ]
  },
  {
   "cell_type": "markdown",
   "id": "51634265",
   "metadata": {
    "id": "51634265"
   },
   "source": [
    "* Remove outliers\n",
    "* Removing the attribute \"Origin\"\n",
    "* Standardizing all attributes"
   ]
  },
  {
   "cell_type": "markdown",
   "id": "75658e04",
   "metadata": {
    "id": "75658e04"
   },
   "source": [
    "<a id='4'></a>\n",
    "<a href='#0'>Back to ToC</a>"
   ]
  },
  {
   "cell_type": "markdown",
   "id": "d1937ca0",
   "metadata": {
    "id": "d1937ca0"
   },
   "source": [
    "## 4. Prepare the Data"
   ]
  },
  {
   "cell_type": "markdown",
   "id": "875dfc44",
   "metadata": {
    "id": "875dfc44"
   },
   "source": [
    "Notes:\n",
    "* Work on copies of the data\n",
    "* Write functions for all data transformations that will be applied"
   ]
  },
  {
   "cell_type": "code",
   "execution_count": null,
   "id": "3eb92308",
   "metadata": {
    "id": "3eb92308"
   },
   "outputs": [],
   "source": [
    "scaffolds_predictors = strat_train_set.drop(\"Organelle\", axis=1)\n",
    "scaffolds_label = strat_train_set[\"Organelle\"].copy()"
   ]
  },
  {
   "cell_type": "markdown",
   "id": "d73012a6",
   "metadata": {
    "id": "d73012a6"
   },
   "source": [
    "### 4.1 Data cleaning:\n",
    "* Fix or remove outliers\n",
    "* Fill in missing values"
   ]
  },
  {
   "cell_type": "markdown",
   "id": "9facf49f",
   "metadata": {
    "id": "9facf49f"
   },
   "source": [
    "### 4.2 Feature selection:\n",
    "* Drop the attributes that provide no useful information for the task"
   ]
  },
  {
   "cell_type": "code",
   "execution_count": null,
   "id": "fa305159",
   "metadata": {
    "id": "fa305159"
   },
   "outputs": [],
   "source": [
    "attr_to_remove = [\"Origin\"]\n",
    "\n",
    "def remove_attr(data, which_to_remove=attr_to_remove, remove_attr=True):\n",
    "    if remove_attr:\n",
    "        return data.drop(attr_to_remove, axis=1)\n",
    "    else:\n",
    "        return data"
   ]
  },
  {
   "cell_type": "markdown",
   "id": "5113d222",
   "metadata": {
    "id": "5113d222"
   },
   "source": [
    "### 4.3 Feature engineering, where appropriate:\n",
    "* Discretize continuous features\n",
    "* Decompose features\n",
    "* Add promising transformations of features\n",
    "* Aggregate features into promising new features"
   ]
  },
  {
   "cell_type": "markdown",
   "id": "bde200fa",
   "metadata": {
    "id": "bde200fa"
   },
   "source": [
    "### 4.4 Feature scaling:\n",
    "* Standardize or normalize features"
   ]
  },
  {
   "cell_type": "markdown",
   "id": "006fedd9",
   "metadata": {
    "id": "006fedd9"
   },
   "source": [
    "Vorbereiten der Daten für Maschine learnin algorithmen."
   ]
  },
  {
   "cell_type": "code",
   "execution_count": null,
   "id": "6b34c5bc",
   "metadata": {
    "id": "6b34c5bc"
   },
   "outputs": [],
   "source": [
    "full_pipeline = Pipeline([\n",
    "      ('attr_remover', FunctionTransformer(remove_attr, validate=False)),\n",
    "      ('std_scaler', StandardScaler())\n",
    "   ])\n",
    "scaffolds_predictors_prepared = full_pipeline.fit_transform(scaffolds_predictors)\n"
   ]
  },
  {
   "cell_type": "code",
   "execution_count": null,
   "id": "d98ba9c6",
   "metadata": {
    "id": "d98ba9c6"
   },
   "outputs": [],
   "source": [
    "scaffolds_predictors_prepared"
   ]
  },
  {
   "cell_type": "code",
   "execution_count": null,
   "id": "757f4c72",
   "metadata": {
    "id": "757f4c72"
   },
   "outputs": [],
   "source": [
    "scaffolds_predictors_prepared.shape"
   ]
  },
  {
   "cell_type": "markdown",
   "id": "51f7ac06",
   "metadata": {
    "id": "51f7ac06"
   },
   "source": [
    "<a id='5'></a>\n",
    "<a href='#0'>Back to ToC</a>"
   ]
  },
  {
   "cell_type": "markdown",
   "id": "1830be3d",
   "metadata": {
    "id": "1830be3d"
   },
   "source": [
    "## 5. Short-List Promising Models"
   ]
  },
  {
   "cell_type": "markdown",
   "id": "5ae68384",
   "metadata": {
    "id": "5ae68384"
   },
   "source": [
    "### 5.1 Train many quick and dirty models from different categories (e.g. linear, naive Bayer, SVM, Random Forest, neural net, etc.) using different parameters"
   ]
  },
  {
   "cell_type": "markdown",
   "id": "05c1b537",
   "metadata": {
    "id": "05c1b537"
   },
   "source": [
    "### 5.2 Measure and compare their performance"
   ]
  },
  {
   "cell_type": "markdown",
   "id": "775bcde7",
   "metadata": {
    "id": "775bcde7"
   },
   "source": [
    "For each model, use N-fold cross validation and compute the mean and standard deviation of the performance measured on the N folds"
   ]
  },
  {
   "cell_type": "markdown",
   "id": "e7d7cec5",
   "metadata": {
    "id": "e7d7cec5"
   },
   "source": [
    "### 5.3 Analyze the most significant variables for each algorithm"
   ]
  },
  {
   "cell_type": "markdown",
   "id": "9e226d9c",
   "metadata": {
    "id": "9e226d9c"
   },
   "source": [
    "### 5.4 Analyze the type of errors the models make"
   ]
  },
  {
   "cell_type": "markdown",
   "id": "b5d39949",
   "metadata": {
    "id": "b5d39949"
   },
   "source": [
    "### 5.5 Have a quick round of feature selection and engineering"
   ]
  },
  {
   "cell_type": "markdown",
   "id": "308b9ea3",
   "metadata": {
    "id": "308b9ea3"
   },
   "source": [
    "### 5.6 Have one or two more quick iterations of the five previous steps"
   ]
  },
  {
   "cell_type": "markdown",
   "id": "5d54532e",
   "metadata": {
    "id": "5d54532e"
   },
   "source": [
    "### 5.7 Short-list the top three to five most promising models, preferring models that make differrent types of errorss"
   ]
  },
  {
   "cell_type": "markdown",
   "id": "8458779c",
   "metadata": {
    "id": "8458779c"
   },
   "source": [
    "<a id='6'></a>\n",
    "<a href='#0'>Back to ToC</a>"
   ]
  },
  {
   "cell_type": "markdown",
   "id": "0669a1e2",
   "metadata": {
    "id": "0669a1e2"
   },
   "source": [
    "## 6. Fine-Tune the System"
   ]
  },
  {
   "cell_type": "markdown",
   "id": "3ffa7ee4",
   "metadata": {
    "id": "3ffa7ee4"
   },
   "source": [
    "### 6.1 Fine-tune the hyperparameters using cross-validation"
   ]
  },
  {
   "cell_type": "markdown",
   "id": "30f8669f",
   "metadata": {
    "id": "30f8669f"
   },
   "source": [
    "* Treat your data transformation choices as hyperparameters, especially when you are not sure about them\n",
    "* Unless there are very few hyperparameter values to explore, prefer random search over grid search"
   ]
  },
  {
   "cell_type": "markdown",
   "id": "0ba5b3b3",
   "metadata": {
    "id": "0ba5b3b3"
   },
   "source": [
    "### 6.2 Try Ensemble methods. "
   ]
  },
  {
   "cell_type": "markdown",
   "id": "9979256b",
   "metadata": {
    "id": "9979256b"
   },
   "source": [
    "Combining your best models will often perform better than running them individually"
   ]
  },
  {
   "cell_type": "markdown",
   "id": "a47749c3",
   "metadata": {
    "id": "a47749c3"
   },
   "source": [
    "### 6.3 Once you are confident about your final model, measure its performance on the test set to estimate the generalization error"
   ]
  },
  {
   "cell_type": "markdown",
   "id": "3a764478",
   "metadata": {
    "id": "3a764478"
   },
   "source": [
    "Do NOT tweak your model after measuring the generalization error due to risk of overfitting the test set"
   ]
  },
  {
   "cell_type": "markdown",
   "id": "9aedb548",
   "metadata": {
    "id": "9aedb548"
   },
   "source": [
    "<a id='7'></a>\n",
    "<a href='#0'>Back to ToC</a>"
   ]
  },
  {
   "cell_type": "markdown",
   "id": "05682ea7",
   "metadata": {
    "id": "05682ea7"
   },
   "source": [
    "## 7. Present the Solution"
   ]
  },
  {
   "cell_type": "markdown",
   "id": "e28e3274",
   "metadata": {
    "id": "e28e3274"
   },
   "source": [
    "### 7.1 Document what you have done"
   ]
  },
  {
   "cell_type": "markdown",
   "id": "9fcc9dce",
   "metadata": {
    "id": "9fcc9dce"
   },
   "source": [
    "### 7.2 Create a nice presentation"
   ]
  },
  {
   "cell_type": "markdown",
   "id": "96c07f46",
   "metadata": {
    "id": "96c07f46"
   },
   "source": [
    "Highlight the big picture first"
   ]
  },
  {
   "cell_type": "markdown",
   "id": "960c5eb5",
   "metadata": {
    "id": "960c5eb5"
   },
   "source": [
    "### 7.3 Explain why your solution achieves the business objective"
   ]
  },
  {
   "cell_type": "markdown",
   "id": "b7fa9c2d",
   "metadata": {
    "id": "b7fa9c2d"
   },
   "source": [
    "### 7.4 Present interesting points along the ways"
   ]
  },
  {
   "cell_type": "markdown",
   "id": "3fa2ad73",
   "metadata": {
    "id": "3fa2ad73"
   },
   "source": [
    "* Describe what worked and what did not\n",
    "* List your assumptions and your system's limitations"
   ]
  },
  {
   "cell_type": "markdown",
   "id": "7a2c2b24",
   "metadata": {
    "id": "7a2c2b24"
   },
   "source": [
    "### 7.5 Ensure your key findings are communicated through beautiful visualizations or easy-to-remember statements"
   ]
  },
  {
   "cell_type": "markdown",
   "id": "198573d2",
   "metadata": {
    "id": "198573d2"
   },
   "source": [
    "<a id='8'></a>\n",
    "<a href='#0'>Back to ToC</a>"
   ]
  },
  {
   "cell_type": "markdown",
   "id": "dfc9f7c6",
   "metadata": {
    "id": "dfc9f7c6"
   },
   "source": [
    "## 8. Launch!"
   ]
  }
 ],
 "metadata": {
  "colab": {
   "name": "NLP Project.ipynb",
   "provenance": []
  },
  "kernelspec": {
   "display_name": "Python 3",
   "language": "python",
   "name": "python3"
  },
  "language_info": {
   "codemirror_mode": {
    "name": "ipython",
    "version": 3
   },
   "file_extension": ".py",
   "mimetype": "text/x-python",
   "name": "python",
   "nbconvert_exporter": "python",
   "pygments_lexer": "ipython3",
   "version": "3.8.5"
  }
 },
 "nbformat": 4,
 "nbformat_minor": 5
}
